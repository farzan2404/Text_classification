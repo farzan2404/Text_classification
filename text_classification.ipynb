{
  "nbformat": 4,
  "nbformat_minor": 0,
  "metadata": {
    "colab": {
      "provenance": [],
      "authorship_tag": "ABX9TyPXHzrvYXC6wfhuzspZM0j6",
      "include_colab_link": true
    },
    "kernelspec": {
      "name": "python3",
      "display_name": "Python 3"
    },
    "language_info": {
      "name": "python"
    }
  },
  "cells": [
    {
      "cell_type": "markdown",
      "metadata": {
        "id": "view-in-github",
        "colab_type": "text"
      },
      "source": [
        "<a href=\"https://colab.research.google.com/github/farzan2404/Text_classification/blob/main/text_classification.ipynb\" target=\"_parent\"><img src=\"https://colab.research.google.com/assets/colab-badge.svg\" alt=\"Open In Colab\"/></a>"
      ]
    },
    {
      "cell_type": "code",
      "execution_count": 5,
      "metadata": {
        "colab": {
          "base_uri": "https://localhost:8080/"
        },
        "id": "YMO0elip1ue8",
        "outputId": "f9c8cf07-52f2-4d05-bd4d-6ebf89d407f0"
      },
      "outputs": [
        {
          "output_type": "stream",
          "name": "stdout",
          "text": [
            "Accuracy achieved is 0.7738980350504514\n",
            "                          precision    recall  f1-score   support\n",
            "\n",
            "             alt.atheism       0.80      0.52      0.63       319\n",
            "           comp.graphics       0.81      0.65      0.72       389\n",
            " comp.os.ms-windows.misc       0.82      0.65      0.73       394\n",
            "comp.sys.ibm.pc.hardware       0.67      0.78      0.72       392\n",
            "   comp.sys.mac.hardware       0.86      0.77      0.81       385\n",
            "          comp.windows.x       0.89      0.75      0.82       395\n",
            "            misc.forsale       0.93      0.69      0.80       390\n",
            "               rec.autos       0.85      0.92      0.88       396\n",
            "         rec.motorcycles       0.94      0.93      0.93       398\n",
            "      rec.sport.baseball       0.92      0.90      0.91       397\n",
            "        rec.sport.hockey       0.89      0.97      0.93       399\n",
            "               sci.crypt       0.59      0.97      0.74       396\n",
            "         sci.electronics       0.84      0.60      0.70       393\n",
            "                 sci.med       0.92      0.74      0.82       396\n",
            "               sci.space       0.84      0.89      0.87       394\n",
            "  soc.religion.christian       0.44      0.98      0.61       398\n",
            "      talk.politics.guns       0.64      0.94      0.76       364\n",
            "   talk.politics.mideast       0.93      0.91      0.92       376\n",
            "      talk.politics.misc       0.96      0.42      0.58       310\n",
            "      talk.religion.misc       0.97      0.14      0.24       251\n",
            "\n",
            "                accuracy                           0.77      7532\n",
            "               macro avg       0.83      0.76      0.76      7532\n",
            "            weighted avg       0.82      0.77      0.77      7532\n",
            "\n"
          ]
        },
        {
          "output_type": "execute_result",
          "data": {
            "text/plain": [
              "array([[166,   0,   0,   1,   0,   1,   0,   0,   1,   1,   1,   3,   0,\n",
              "          6,   3, 123,   4,   8,   0,   1],\n",
              "       [  1, 252,  15,  12,   9,  18,   1,   2,   1,   5,   2,  41,   4,\n",
              "          0,   6,  15,   4,   1,   0,   0],\n",
              "       [  0,  14, 258,  45,   3,   9,   0,   2,   1,   3,   2,  25,   1,\n",
              "          0,   6,  23,   2,   0,   0,   0],\n",
              "       [  0,   5,  11, 305,  17,   1,   3,   6,   1,   0,   2,  19,  13,\n",
              "          0,   5,   3,   1,   0,   0,   0],\n",
              "       [  0,   3,   8,  23, 298,   0,   3,   8,   1,   3,   1,  16,   8,\n",
              "          0,   2,   8,   3,   0,   0,   0],\n",
              "       [  1,  21,  17,  13,   2, 298,   1,   0,   1,   1,   0,  23,   0,\n",
              "          1,   4,  10,   2,   0,   0,   0],\n",
              "       [  0,   1,   3,  31,  12,   1, 271,  19,   4,   4,   6,   5,  12,\n",
              "          6,   3,   9,   3,   0,   0,   0],\n",
              "       [  0,   1,   0,   3,   0,   0,   4, 364,   3,   2,   2,   4,   1,\n",
              "          1,   3,   3,   4,   0,   1,   0],\n",
              "       [  0,   0,   0,   1,   0,   0,   2,  10, 371,   0,   0,   4,   0,\n",
              "          0,   0,   8,   2,   0,   0,   0],\n",
              "       [  0,   0,   0,   0,   1,   0,   0,   4,   0, 357,  22,   0,   0,\n",
              "          0,   2,   9,   1,   1,   0,   0],\n",
              "       [  0,   0,   0,   0,   0,   0,   0,   1,   0,   4, 387,   1,   0,\n",
              "          0,   1,   5,   0,   0,   0,   0],\n",
              "       [  0,   2,   1,   0,   0,   1,   1,   3,   0,   0,   0, 383,   1,\n",
              "          0,   0,   3,   1,   0,   0,   0],\n",
              "       [  0,   4,   2,  17,   5,   0,   2,   8,   7,   1,   2,  78, 235,\n",
              "          3,  11,  15,   2,   1,   0,   0],\n",
              "       [  2,   3,   0,   1,   1,   3,   1,   0,   2,   3,   4,  11,   5,\n",
              "        292,   6,  52,   6,   4,   0,   0],\n",
              "       [  0,   2,   0,   1,   0,   3,   0,   2,   1,   0,   1,   6,   1,\n",
              "          2, 351,  19,   4,   0,   1,   0],\n",
              "       [  2,   0,   0,   0,   0,   0,   0,   0,   1,   0,   0,   0,   0,\n",
              "          1,   2, 392,   0,   0,   0,   0],\n",
              "       [  0,   0,   0,   1,   0,   0,   2,   0,   1,   1,   0,  10,   0,\n",
              "          0,   1,   6, 341,   1,   0,   0],\n",
              "       [  0,   1,   0,   0,   0,   0,   0,   0,   0,   1,   0,   2,   0,\n",
              "          0,   0,  24,   3, 344,   1,   0],\n",
              "       [  2,   0,   0,   0,   0,   0,   0,   1,   0,   0,   1,  11,   0,\n",
              "          1,   7,  35, 118,   5, 129,   0],\n",
              "       [ 33,   2,   0,   0,   0,   0,   0,   0,   0,   1,   1,   3,   0,\n",
              "          4,   4, 131,  29,   5,   3,  35]])"
            ]
          },
          "metadata": {},
          "execution_count": 5
        }
      ],
      "source": [
        "from sklearn.datasets import fetch_20newsgroups\n",
        "\n",
        "categories = ['alt.atheism', 'soc.religion.christian', 'comp.graphics', 'sci.med','comp.sys.mac.hardware',\n",
        "    'comp.windows.x',\n",
        "    'misc.forsale',\n",
        "    'rec.autos',\n",
        "    'rec.motorcycles',\n",
        "    'rec.sport.baseball',\n",
        "    'rec.sport.hockey',\n",
        "    'sci.crypt',\n",
        "    'sci.electronics',\n",
        "    'sci.space',\n",
        "    'talk.politics.guns',\n",
        "    'talk.politics.mideast',\n",
        "    'talk.politics.misc',\n",
        "    'talk.religion.misc',\n",
        "    'comp.sys.ibm.pc.hardware',\n",
        "    'comp.os.ms-windows.misc']\n",
        "\n",
        "# Load the training data\n",
        "news_train = fetch_20newsgroups(subset='train', categories=categories, shuffle=True, random_state=42)\n",
        "\n",
        "# Load the test data\n",
        "news_test = fetch_20newsgroups(subset='test', categories=categories, shuffle=True, random_state=42)\n",
        "\n",
        "from sklearn.pipeline import Pipeline\n",
        "from sklearn.feature_extraction.text import TfidfVectorizer\n",
        "from sklearn.naive_bayes import MultinomialNB\n",
        "\n",
        "text_clf = Pipeline([('vect', TfidfVectorizer()),\n",
        "                      ('clf', MultinomialNB()) ])\n",
        "\n",
        "# train the model\n",
        "text_clf.fit(news_train.data, news_train.target)\n",
        "# Predict the test cases\n",
        "predicted = text_clf.predict(news_test.data)\n",
        "\n",
        "from sklearn import metrics\n",
        "from sklearn.metrics import accuracy_score\n",
        "import numpy as np\n",
        "\n",
        "print('Accuracy achieved is ' + str(np.mean(predicted == news_test.target)))\n",
        "print(metrics.classification_report(news_test.target, predicted, target_names=news_test.target_names)),\n",
        "metrics.confusion_matrix(news_test.target, predicted)"
      ]
    },
    {
      "cell_type": "code",
      "source": [
        "# Additional test data\n",
        "additional_test_data = [\n",
        "    \"The new Apple Macbook Pro is a powerful machine for graphics design.\",\n",
        "    \"Soccer is a popular sport in many countries.\",\n",
        "    \"I'm selling my old computer monitor online.\",\n",
        "    \"I'm considering buying a new motorcycle.\",\n",
        "    \"The recent space exploration mission was a significant achievement.\",\n",
        "    \"I'm interested in learning more about computer security.\",\n",
        "    \"Electric cars are becoming increasingly popular.\",\n",
        "    \"The political situation in the Middle East is complex and sensitive.\",\n",
        "    \"I want to sell my collection of vintage vinyl records.\",\n",
        "    \"I enjoy watching baseball games in my free time.\"\n",
        "]\n",
        "\n",
        "# Use the trained model to predict the categories for the additional test data\n",
        "additional_predicted = text_clf.predict(additional_test_data)\n",
        "\n",
        "# Map the predicted category IDs to category names\n",
        "additional_predicted_category_names = [news_test.target_names[i] for i in additional_predicted]\n",
        "\n",
        "# Print the predictions for the additional test data\n",
        "for data, category in zip(additional_test_data, additional_predicted_category_names):\n",
        "    print(f\"Text: {data}\")\n",
        "    print(f\"Predicted Category: {category}\\n\")\n"
      ],
      "metadata": {
        "colab": {
          "base_uri": "https://localhost:8080/"
        },
        "id": "NhbI6QBY5LpV",
        "outputId": "e099063f-8d49-4d9d-c2d8-26db56aebf84"
      },
      "execution_count": 6,
      "outputs": [
        {
          "output_type": "stream",
          "name": "stdout",
          "text": [
            "Text: The new Apple Macbook Pro is a powerful machine for graphics design.\n",
            "Predicted Category: comp.sys.mac.hardware\n",
            "\n",
            "Text: Soccer is a popular sport in many countries.\n",
            "Predicted Category: rec.sport.hockey\n",
            "\n",
            "Text: I'm selling my old computer monitor online.\n",
            "Predicted Category: misc.forsale\n",
            "\n",
            "Text: I'm considering buying a new motorcycle.\n",
            "Predicted Category: rec.motorcycles\n",
            "\n",
            "Text: The recent space exploration mission was a significant achievement.\n",
            "Predicted Category: sci.space\n",
            "\n",
            "Text: I'm interested in learning more about computer security.\n",
            "Predicted Category: sci.crypt\n",
            "\n",
            "Text: Electric cars are becoming increasingly popular.\n",
            "Predicted Category: rec.autos\n",
            "\n",
            "Text: The political situation in the Middle East is complex and sensitive.\n",
            "Predicted Category: talk.politics.mideast\n",
            "\n",
            "Text: I want to sell my collection of vintage vinyl records.\n",
            "Predicted Category: misc.forsale\n",
            "\n",
            "Text: I enjoy watching baseball games in my free time.\n",
            "Predicted Category: rec.sport.baseball\n",
            "\n"
          ]
        }
      ]
    }
  ]
}